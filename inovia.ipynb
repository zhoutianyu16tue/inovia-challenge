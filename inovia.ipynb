{
 "cells": [
  {
   "cell_type": "markdown",
   "metadata": {},
   "source": [
    "# Prepare the software environment"
   ]
  },
  {
   "cell_type": "code",
   "execution_count": 1,
   "metadata": {},
   "outputs": [],
   "source": [
    "from pyspark.sql import SparkSession\n",
    "from pyspark.sql.types import *\n",
    "from pyspark.sql.functions import *\n",
    "from pyspark.sql import Row\n",
    "from datetime import datetime\n",
    "import re"
   ]
  },
  {
   "cell_type": "code",
   "execution_count": 2,
   "metadata": {},
   "outputs": [],
   "source": [
    "spark = SparkSession.builder \\\n",
    "    .master('local[*]') \\\n",
    "    .appName('Internal Access Log Analysis') \\\n",
    "    .getOrCreate()\n",
    "\n",
    "sc = spark.sparkContext"
   ]
  },
  {
   "cell_type": "markdown",
   "metadata": {},
   "source": [
    "# Define the regular expression for parsing each line of the log file"
   ]
  },
  {
   "cell_type": "code",
   "execution_count": 3,
   "metadata": {},
   "outputs": [],
   "source": [
    "ACCESS_LOG_PATTERN = '(\\S+) (\\S+) (\\S+) (\\d{4}-\\d{2}-\\d{2}\\s\\d{2}:\\d{2}:\\d{2}\\s[+\\-]\\d{4}) \"(\\S+) (\\S+)\\s*(\\S*)\\s*\" (\\S+) (\\S+) \"(\\S+)\" \"(\\S+)\\s*(\\S*\\s*\\S*)\" (\\S+) (\\S+) (\\S+)'\n",
    "DATETIME_RE = '%Y-%m-%d %H:%M:%S %z'\n",
    "\n",
    "def parse_apache_log_line(logline):\n",
    "    match = re.search(ACCESS_LOG_PATTERN, logline)\n",
    "    if match is None:\n",
    "        print(\"No match\")\n",
    "        return None\n",
    "    date_obj = datetime.strptime(match.group(4), DATETIME_RE)\n",
    "\n",
    "    return Row(\n",
    "        ipAddress    = match.group(1),\n",
    "        clientIdentd = match.group(2),\n",
    "        userId       = match.group(3),\n",
    "        dateTime     = match.group(4),\n",
    "        timestamp    = date_obj.timestamp(),\n",
    "        date         = date_obj.strftime('%Y-%m-%d'),\n",
    "        method       = match.group(5),\n",
    "        endpoint     = match.group(6),\n",
    "        protocol     = match.group(7),\n",
    "        responseCode = (match.group(8)),\n",
    "        port         = (match.group(9)),\n",
    "        field_10     = match.group(10),\n",
    "        platform     = match.group(11),\n",
    "        access_tool  = match.group(12),\n",
    "        in_byte      = match.group(13),\n",
    "        out_byte     = match.group(14),\n",
    "        us_byte      = match.group(15))"
   ]
  },
  {
   "cell_type": "code",
   "execution_count": 165,
   "metadata": {},
   "outputs": [
    {
     "data": {
      "text/plain": [
       "Row(access_tool='', clientIdentd='-', date='2016-12-13', dateTime='2016-12-13 12:52:47 +0100', endpoint='/server-status?auto', field_10='-', in_byte='in:94', ipAddress='localhost', method='GET', out_byte='out:636', platform='collectd/5.5.1', port='438', protocol='HTTP/1.1', responseCode='rc:200', timestamp=1481629967.0, us_byte='us:390', userId='-')"
      ]
     },
     "execution_count": 165,
     "metadata": {},
     "output_type": "execute_result"
    }
   ],
   "source": [
    "test_line = 'localhost - - 2016-12-13 12:52:47 +0100 \"GET /server-status?auto HTTP/1.1\" rc:200 438 \"-\" \"collectd/5.5.1\" in:94 out:636 us:390'\n",
    "test_row = parse_apache_log_line(test_line)\n",
    "test_row"
   ]
  },
  {
   "cell_type": "markdown",
   "metadata": {},
   "source": [
    "# Load the log file"
   ]
  },
  {
   "cell_type": "code",
   "execution_count": 7,
   "metadata": {},
   "outputs": [],
   "source": [
    "access_logs_raw = sc.textFile('access_logs_201612.txt')"
   ]
  },
  {
   "cell_type": "code",
   "execution_count": 8,
   "metadata": {},
   "outputs": [
    {
     "data": {
      "text/plain": [
       "2529245"
      ]
     },
     "execution_count": 8,
     "metadata": {},
     "output_type": "execute_result"
    }
   ],
   "source": [
    "access_logs_raw.count()"
   ]
  },
  {
   "cell_type": "code",
   "execution_count": 9,
   "metadata": {},
   "outputs": [
    {
     "data": {
      "text/plain": [
       "2275168"
      ]
     },
     "execution_count": 9,
     "metadata": {},
     "output_type": "execute_result"
    }
   ],
   "source": [
    "access_logs_parsed = access_logs_raw.map(parse_apache_log_line) \\\n",
    "                .filter((lambda x: x is not None))\n",
    "\n",
    "access_logs_parsed.count()"
   ]
  },
  {
   "cell_type": "markdown",
   "metadata": {},
   "source": [
    "# Analysis\n",
    "The parser only parsed around 90% of the lines. This means that the regular expression still needs significant improvement so that we don't have to exclude 10% of the data."
   ]
  },
  {
   "cell_type": "code",
   "execution_count": 10,
   "metadata": {},
   "outputs": [],
   "source": [
    "access_logs_df = access_logs_parsed.toDF()"
   ]
  },
  {
   "cell_type": "code",
   "execution_count": 11,
   "metadata": {},
   "outputs": [
    {
     "data": {
      "text/plain": [
       "DataFrame[access_tool: string, clientIdentd: string, date: string, dateTime: string, endpoint: string, field_10: string, in_byte: string, ipAddress: string, method: string, out_byte: string, platform: string, port: string, protocol: string, responseCode: string, timestamp: double, us_byte: string, userId: string]"
      ]
     },
     "execution_count": 11,
     "metadata": {},
     "output_type": "execute_result"
    }
   ],
   "source": [
    "type(access_logs_df)\n",
    "\n",
    "access_logs_df.cache()"
   ]
  },
  {
   "cell_type": "markdown",
   "metadata": {},
   "source": [
    "# Identify available IP addresses\n",
    "In this notebook, we mainly focus on the behavior of different IPs.\n",
    "As shown from the dataframe, the ip address 147.214.18.128 constitutes over 92% of the available rows.\n",
    "This IP address will be referred to as the VIP."
   ]
  },
  {
   "cell_type": "code",
   "execution_count": 13,
   "metadata": {},
   "outputs": [
    {
     "name": "stdout",
     "output_type": "stream",
     "text": [
      "+---------------+-------+\n",
      "|      ipAddress|  count|\n",
      "+---------------+-------+\n",
      "| 147.214.81.243|      8|\n",
      "|      localhost| 141701|\n",
      "|147.214.176.155|   4214|\n",
      "|  147.214.64.44|  11097|\n",
      "| 147.214.64.148|  17058|\n",
      "|    153.88.5.88|     16|\n",
      "| 147.214.17.153|   5711|\n",
      "| 134.138.165.73|     17|\n",
      "| 147.214.18.128|2093165|\n",
      "| 147.214.17.154|   2181|\n",
      "+---------------+-------+\n",
      "\n"
     ]
    }
   ],
   "source": [
    "access_logs_df.groupBy(\"ipAddress\").count().show()"
   ]
  },
  {
   "cell_type": "markdown",
   "metadata": {},
   "source": [
    "# Define the granularity of counting IP accesses\n",
    "We count the access by hour."
   ]
  },
  {
   "cell_type": "code",
   "execution_count": 178,
   "metadata": {},
   "outputs": [],
   "source": [
    "@udf(returnType=StringType())\n",
    "def dayhour(date):\n",
    "    dateTime = datetime.strptime(date, DATETIME_RE)\n",
    "    return '%d/%02d/%02d:%02d' % (dateTime.year, dateTime.month, dateTime.day, dateTime.hour)\n",
    "\n",
    "@udf(returnType=IntegerType())\n",
    "def hour(date):\n",
    "    return datetime.strptime(date, DATETIME_RE).hour"
   ]
  },
  {
   "cell_type": "markdown",
   "metadata": {},
   "source": [
    "# Add the new column day_hour"
   ]
  },
  {
   "cell_type": "code",
   "execution_count": 180,
   "metadata": {},
   "outputs": [],
   "source": [
    "access_logs_df = access_logs_df.withColumn(\"day_hour\", dayhour(col('dateTime')))\n",
    "access_logs_df = access_logs_df.withColumn(\"hour\", hour('dateTime'))"
   ]
  },
  {
   "cell_type": "code",
   "execution_count": 181,
   "metadata": {},
   "outputs": [
    {
     "data": {
      "text/plain": [
       "[Row(access_tool='(java 1.5)', clientIdentd='-', date='2016-11-27', dateTime='2016-11-27 03:16:03 +0100', endpoint='/rawdata-dispatcher/progress/count?executionId=f5f96b9f-fb86-41f3-9142-375edec95f2f', field_10='-', in_byte='in:244', ipAddress='147.214.18.128', method='GET', out_byte='out:223', platform='Apache-HttpClient/4.3.3', port='22', protocol='HTTP/1.1', responseCode='rc:200', timestamp=1480212963.0, us_byte='us:2545', userId='-', day_of_week=6, hour_of_day='2016/11/27:3', day_hour='2016/11/27:03', hour=3)]"
      ]
     },
     "execution_count": 181,
     "metadata": {},
     "output_type": "execute_result"
    }
   ],
   "source": [
    "access_logs_df.take(1)"
   ]
  },
  {
   "cell_type": "markdown",
   "metadata": {},
   "source": [
    "# Count the access for all the rows"
   ]
  },
  {
   "cell_type": "code",
   "execution_count": 143,
   "metadata": {
    "scrolled": true
   },
   "outputs": [],
   "source": [
    "pandas_day_hour_all_df = access_logs_df.groupBy(\"day_hour\").count().sort(access_logs_df.day_hour).toPandas()"
   ]
  },
  {
   "cell_type": "markdown",
   "metadata": {},
   "source": [
    "# Count the access for only the VIP"
   ]
  },
  {
   "cell_type": "code",
   "execution_count": 149,
   "metadata": {},
   "outputs": [],
   "source": [
    "vip_ipAddress = \"147.214.18.128\"\n",
    "\n",
    "pandas_day_hour_vip_df = access_logs_df.where(access_logs_df.ipAddress == vip_ipAddress).groupBy(\"day_hour\").count().sort(access_logs_df.day_hour).toPandas()"
   ]
  },
  {
   "cell_type": "code",
   "execution_count": 170,
   "metadata": {},
   "outputs": [
    {
     "data": {
      "image/png": "[encoded data removed]",
      "text/plain": [
       "<Figure size 432x288 with 1 Axes>"
      ]
     },
     "metadata": {},
     "output_type": "display_data"
    }
   ],
   "source": [
    "%matplotlib inline\n",
    "import matplotlib.pyplot as plt\n",
    "\n",
    "plt.plot(pandas_day_hour_all_df['count'], label='all')\n",
    "plt.plot(pandas_day_hour_vip_df['count'], label='vip')\n",
    "plt.title(\"Comparison of access count by hour\")\n",
    "plt.ylabel(\"Access Count\")\n",
    "plt.legend(loc=\"best\")\n",
    "plt.show()"
   ]
  },
  {
   "cell_type": "code",
   "execution_count": 174,
   "metadata": {
    "scrolled": true
   },
   "outputs": [
    {
     "data": {
      "text/html": [
       "<div>\n",
       "<style scoped>\n",
       "    .dataframe tbody tr th:only-of-type {\n",
       "        vertical-align: middle;\n",
       "    }\n",
       "\n",
       "    .dataframe tbody tr th {\n",
       "        vertical-align: top;\n",
       "    }\n",
       "\n",
       "    .dataframe thead th {\n",
       "        text-align: right;\n",
       "    }\n",
       "</style>\n",
       "<table border=\"1\" class=\"dataframe\">\n",
       "  <thead>\n",
       "    <tr style=\"text-align: right;\">\n",
       "      <th></th>\n",
       "      <th>day_hour</th>\n",
       "      <th>count</th>\n",
       "    </tr>\n",
       "  </thead>\n",
       "  <tbody>\n",
       "    <tr>\n",
       "      <th>125</th>\n",
       "      <td>2016/12/02:08</td>\n",
       "      <td>1235</td>\n",
       "    </tr>\n",
       "    <tr>\n",
       "      <th>126</th>\n",
       "      <td>2016/12/02:09</td>\n",
       "      <td>1193</td>\n",
       "    </tr>\n",
       "    <tr>\n",
       "      <th>127</th>\n",
       "      <td>2016/12/02:10</td>\n",
       "      <td>1205</td>\n",
       "    </tr>\n",
       "    <tr>\n",
       "      <th>128</th>\n",
       "      <td>2016/12/02:11</td>\n",
       "      <td>1314</td>\n",
       "    </tr>\n",
       "    <tr>\n",
       "      <th>129</th>\n",
       "      <td>2016/12/02:12</td>\n",
       "      <td>1316</td>\n",
       "    </tr>\n",
       "    <tr>\n",
       "      <th>130</th>\n",
       "      <td>2016/12/02:13</td>\n",
       "      <td>1189</td>\n",
       "    </tr>\n",
       "    <tr>\n",
       "      <th>131</th>\n",
       "      <td>2016/12/02:14</td>\n",
       "      <td>1216</td>\n",
       "    </tr>\n",
       "    <tr>\n",
       "      <th>132</th>\n",
       "      <td>2016/12/02:15</td>\n",
       "      <td>1299</td>\n",
       "    </tr>\n",
       "    <tr>\n",
       "      <th>133</th>\n",
       "      <td>2016/12/02:16</td>\n",
       "      <td>1524</td>\n",
       "    </tr>\n",
       "    <tr>\n",
       "      <th>134</th>\n",
       "      <td>2016/12/02:17</td>\n",
       "      <td>1279</td>\n",
       "    </tr>\n",
       "    <tr>\n",
       "      <th>135</th>\n",
       "      <td>2016/12/02:18</td>\n",
       "      <td>1206</td>\n",
       "    </tr>\n",
       "    <tr>\n",
       "      <th>136</th>\n",
       "      <td>2016/12/02:19</td>\n",
       "      <td>1189</td>\n",
       "    </tr>\n",
       "    <tr>\n",
       "      <th>137</th>\n",
       "      <td>2016/12/02:20</td>\n",
       "      <td>1206</td>\n",
       "    </tr>\n",
       "    <tr>\n",
       "      <th>138</th>\n",
       "      <td>2016/12/02:21</td>\n",
       "      <td>1193</td>\n",
       "    </tr>\n",
       "    <tr>\n",
       "      <th>139</th>\n",
       "      <td>2016/12/02:22</td>\n",
       "      <td>1202</td>\n",
       "    </tr>\n",
       "    <tr>\n",
       "      <th>140</th>\n",
       "      <td>2016/12/02:23</td>\n",
       "      <td>1193</td>\n",
       "    </tr>\n",
       "    <tr>\n",
       "      <th>141</th>\n",
       "      <td>2016/12/03:00</td>\n",
       "      <td>1202</td>\n",
       "    </tr>\n",
       "    <tr>\n",
       "      <th>142</th>\n",
       "      <td>2016/12/03:01</td>\n",
       "      <td>1193</td>\n",
       "    </tr>\n",
       "    <tr>\n",
       "      <th>143</th>\n",
       "      <td>2016/12/03:02</td>\n",
       "      <td>1202</td>\n",
       "    </tr>\n",
       "    <tr>\n",
       "      <th>144</th>\n",
       "      <td>2016/12/03:03</td>\n",
       "      <td>1193</td>\n",
       "    </tr>\n",
       "    <tr>\n",
       "      <th>145</th>\n",
       "      <td>2016/12/03:04</td>\n",
       "      <td>1203</td>\n",
       "    </tr>\n",
       "    <tr>\n",
       "      <th>146</th>\n",
       "      <td>2016/12/03:05</td>\n",
       "      <td>1190</td>\n",
       "    </tr>\n",
       "    <tr>\n",
       "      <th>147</th>\n",
       "      <td>2016/12/03:06</td>\n",
       "      <td>1203</td>\n",
       "    </tr>\n",
       "    <tr>\n",
       "      <th>148</th>\n",
       "      <td>2016/12/03:07</td>\n",
       "      <td>1193</td>\n",
       "    </tr>\n",
       "    <tr>\n",
       "      <th>149</th>\n",
       "      <td>2016/12/03:08</td>\n",
       "      <td>1221</td>\n",
       "    </tr>\n",
       "    <tr>\n",
       "      <th>150</th>\n",
       "      <td>2016/12/03:09</td>\n",
       "      <td>1780</td>\n",
       "    </tr>\n",
       "    <tr>\n",
       "      <th>151</th>\n",
       "      <td>2016/12/03:10</td>\n",
       "      <td>1206</td>\n",
       "    </tr>\n",
       "    <tr>\n",
       "      <th>152</th>\n",
       "      <td>2016/12/03:11</td>\n",
       "      <td>1189</td>\n",
       "    </tr>\n",
       "    <tr>\n",
       "      <th>153</th>\n",
       "      <td>2016/12/03:12</td>\n",
       "      <td>1206</td>\n",
       "    </tr>\n",
       "    <tr>\n",
       "      <th>154</th>\n",
       "      <td>2016/12/03:13</td>\n",
       "      <td>1191</td>\n",
       "    </tr>\n",
       "    <tr>\n",
       "      <th>...</th>\n",
       "      <td>...</td>\n",
       "      <td>...</td>\n",
       "    </tr>\n",
       "    <tr>\n",
       "      <th>220</th>\n",
       "      <td>2016/12/06:07</td>\n",
       "      <td>1190</td>\n",
       "    </tr>\n",
       "    <tr>\n",
       "      <th>221</th>\n",
       "      <td>2016/12/06:08</td>\n",
       "      <td>1205</td>\n",
       "    </tr>\n",
       "    <tr>\n",
       "      <th>222</th>\n",
       "      <td>2016/12/06:09</td>\n",
       "      <td>1193</td>\n",
       "    </tr>\n",
       "    <tr>\n",
       "      <th>223</th>\n",
       "      <td>2016/12/06:10</td>\n",
       "      <td>1200</td>\n",
       "    </tr>\n",
       "    <tr>\n",
       "      <th>224</th>\n",
       "      <td>2016/12/06:11</td>\n",
       "      <td>1194</td>\n",
       "    </tr>\n",
       "    <tr>\n",
       "      <th>225</th>\n",
       "      <td>2016/12/06:12</td>\n",
       "      <td>1204</td>\n",
       "    </tr>\n",
       "    <tr>\n",
       "      <th>226</th>\n",
       "      <td>2016/12/06:13</td>\n",
       "      <td>1929</td>\n",
       "    </tr>\n",
       "    <tr>\n",
       "      <th>227</th>\n",
       "      <td>2016/12/06:14</td>\n",
       "      <td>1202</td>\n",
       "    </tr>\n",
       "    <tr>\n",
       "      <th>228</th>\n",
       "      <td>2016/12/06:15</td>\n",
       "      <td>1193</td>\n",
       "    </tr>\n",
       "    <tr>\n",
       "      <th>229</th>\n",
       "      <td>2016/12/06:16</td>\n",
       "      <td>1203</td>\n",
       "    </tr>\n",
       "    <tr>\n",
       "      <th>230</th>\n",
       "      <td>2016/12/06:17</td>\n",
       "      <td>1193</td>\n",
       "    </tr>\n",
       "    <tr>\n",
       "      <th>231</th>\n",
       "      <td>2016/12/06:18</td>\n",
       "      <td>1203</td>\n",
       "    </tr>\n",
       "    <tr>\n",
       "      <th>232</th>\n",
       "      <td>2016/12/06:19</td>\n",
       "      <td>1194</td>\n",
       "    </tr>\n",
       "    <tr>\n",
       "      <th>233</th>\n",
       "      <td>2016/12/06:20</td>\n",
       "      <td>1202</td>\n",
       "    </tr>\n",
       "    <tr>\n",
       "      <th>234</th>\n",
       "      <td>2016/12/06:21</td>\n",
       "      <td>1192</td>\n",
       "    </tr>\n",
       "    <tr>\n",
       "      <th>235</th>\n",
       "      <td>2016/12/06:22</td>\n",
       "      <td>1202</td>\n",
       "    </tr>\n",
       "    <tr>\n",
       "      <th>236</th>\n",
       "      <td>2016/12/06:23</td>\n",
       "      <td>1193</td>\n",
       "    </tr>\n",
       "    <tr>\n",
       "      <th>237</th>\n",
       "      <td>2016/12/07:00</td>\n",
       "      <td>1202</td>\n",
       "    </tr>\n",
       "    <tr>\n",
       "      <th>238</th>\n",
       "      <td>2016/12/07:01</td>\n",
       "      <td>1193</td>\n",
       "    </tr>\n",
       "    <tr>\n",
       "      <th>239</th>\n",
       "      <td>2016/12/07:02</td>\n",
       "      <td>1202</td>\n",
       "    </tr>\n",
       "    <tr>\n",
       "      <th>240</th>\n",
       "      <td>2016/12/07:03</td>\n",
       "      <td>1193</td>\n",
       "    </tr>\n",
       "    <tr>\n",
       "      <th>241</th>\n",
       "      <td>2016/12/07:04</td>\n",
       "      <td>1205</td>\n",
       "    </tr>\n",
       "    <tr>\n",
       "      <th>242</th>\n",
       "      <td>2016/12/07:05</td>\n",
       "      <td>1194</td>\n",
       "    </tr>\n",
       "    <tr>\n",
       "      <th>243</th>\n",
       "      <td>2016/12/07:06</td>\n",
       "      <td>1202</td>\n",
       "    </tr>\n",
       "    <tr>\n",
       "      <th>244</th>\n",
       "      <td>2016/12/07:07</td>\n",
       "      <td>1193</td>\n",
       "    </tr>\n",
       "    <tr>\n",
       "      <th>245</th>\n",
       "      <td>2016/12/07:08</td>\n",
       "      <td>1203</td>\n",
       "    </tr>\n",
       "    <tr>\n",
       "      <th>246</th>\n",
       "      <td>2016/12/07:09</td>\n",
       "      <td>1192</td>\n",
       "    </tr>\n",
       "    <tr>\n",
       "      <th>247</th>\n",
       "      <td>2016/12/07:10</td>\n",
       "      <td>1159</td>\n",
       "    </tr>\n",
       "    <tr>\n",
       "      <th>248</th>\n",
       "      <td>2016/12/07:11</td>\n",
       "      <td>1050</td>\n",
       "    </tr>\n",
       "    <tr>\n",
       "      <th>249</th>\n",
       "      <td>2016/12/07:12</td>\n",
       "      <td>1206</td>\n",
       "    </tr>\n",
       "  </tbody>\n",
       "</table>\n",
       "<p>125 rows × 2 columns</p>\n",
       "</div>"
      ],
      "text/plain": [
       "          day_hour  count\n",
       "125  2016/12/02:08   1235\n",
       "126  2016/12/02:09   1193\n",
       "127  2016/12/02:10   1205\n",
       "128  2016/12/02:11   1314\n",
       "129  2016/12/02:12   1316\n",
       "130  2016/12/02:13   1189\n",
       "131  2016/12/02:14   1216\n",
       "132  2016/12/02:15   1299\n",
       "133  2016/12/02:16   1524\n",
       "134  2016/12/02:17   1279\n",
       "135  2016/12/02:18   1206\n",
       "136  2016/12/02:19   1189\n",
       "137  2016/12/02:20   1206\n",
       "138  2016/12/02:21   1193\n",
       "139  2016/12/02:22   1202\n",
       "140  2016/12/02:23   1193\n",
       "141  2016/12/03:00   1202\n",
       "142  2016/12/03:01   1193\n",
       "143  2016/12/03:02   1202\n",
       "144  2016/12/03:03   1193\n",
       "145  2016/12/03:04   1203\n",
       "146  2016/12/03:05   1190\n",
       "147  2016/12/03:06   1203\n",
       "148  2016/12/03:07   1193\n",
       "149  2016/12/03:08   1221\n",
       "150  2016/12/03:09   1780\n",
       "151  2016/12/03:10   1206\n",
       "152  2016/12/03:11   1189\n",
       "153  2016/12/03:12   1206\n",
       "154  2016/12/03:13   1191\n",
       "..             ...    ...\n",
       "220  2016/12/06:07   1190\n",
       "221  2016/12/06:08   1205\n",
       "222  2016/12/06:09   1193\n",
       "223  2016/12/06:10   1200\n",
       "224  2016/12/06:11   1194\n",
       "225  2016/12/06:12   1204\n",
       "226  2016/12/06:13   1929\n",
       "227  2016/12/06:14   1202\n",
       "228  2016/12/06:15   1193\n",
       "229  2016/12/06:16   1203\n",
       "230  2016/12/06:17   1193\n",
       "231  2016/12/06:18   1203\n",
       "232  2016/12/06:19   1194\n",
       "233  2016/12/06:20   1202\n",
       "234  2016/12/06:21   1192\n",
       "235  2016/12/06:22   1202\n",
       "236  2016/12/06:23   1193\n",
       "237  2016/12/07:00   1202\n",
       "238  2016/12/07:01   1193\n",
       "239  2016/12/07:02   1202\n",
       "240  2016/12/07:03   1193\n",
       "241  2016/12/07:04   1205\n",
       "242  2016/12/07:05   1194\n",
       "243  2016/12/07:06   1202\n",
       "244  2016/12/07:07   1193\n",
       "245  2016/12/07:08   1203\n",
       "246  2016/12/07:09   1192\n",
       "247  2016/12/07:10   1159\n",
       "248  2016/12/07:11   1050\n",
       "249  2016/12/07:12   1206\n",
       "\n",
       "[125 rows x 2 columns]"
      ]
     },
     "execution_count": 174,
     "metadata": {},
     "output_type": "execute_result"
    }
   ],
   "source": [
    "pandas_day_hour_all_df[125:250]"
   ]
  },
  {
   "cell_type": "markdown",
   "metadata": {},
   "source": [
    "# Analysis\n",
    "By comparing the access count of all IPs and VIP over time on hourly basis, we get the intuition that the trend\n",
    "of the all access count is very similar to the trend of VIP (147.214.18.128).\n",
    "\n",
    "There is no clear trend or seasonality in the time series. An easy observation is that during the period from 2016/12/02 to 2016/12/07, the access count reached a basin. This is very clear for the IP address, 147.214.18.128.\n",
    "However, a few spikes appeared. This indicates there are some other IP addresses boosted their access count suddenly.\n",
    "\n",
    "Given the fact there is no clear trend or seasonality, it might not a good idea to fit a time series forecasting model. Instead, it is more intersting to see why there are a few spikes. Rest of the report will explore it."
   ]
  },
  {
   "cell_type": "code",
   "execution_count": 175,
   "metadata": {},
   "outputs": [
    {
     "data": {
      "text/html": [
       "<div>\n",
       "<style scoped>\n",
       "    .dataframe tbody tr th:only-of-type {\n",
       "        vertical-align: middle;\n",
       "    }\n",
       "\n",
       "    .dataframe tbody tr th {\n",
       "        vertical-align: top;\n",
       "    }\n",
       "\n",
       "    .dataframe thead th {\n",
       "        text-align: right;\n",
       "    }\n",
       "</style>\n",
       "<table border=\"1\" class=\"dataframe\">\n",
       "  <thead>\n",
       "    <tr style=\"text-align: right;\">\n",
       "      <th></th>\n",
       "      <th>day_hour</th>\n",
       "      <th>count</th>\n",
       "    </tr>\n",
       "  </thead>\n",
       "  <tbody>\n",
       "    <tr>\n",
       "      <th>195</th>\n",
       "      <td>2016/12/05:06</td>\n",
       "      <td>1203</td>\n",
       "    </tr>\n",
       "    <tr>\n",
       "      <th>196</th>\n",
       "      <td>2016/12/05:07</td>\n",
       "      <td>1192</td>\n",
       "    </tr>\n",
       "    <tr>\n",
       "      <th>197</th>\n",
       "      <td>2016/12/05:08</td>\n",
       "      <td>1203</td>\n",
       "    </tr>\n",
       "    <tr>\n",
       "      <th>198</th>\n",
       "      <td>2016/12/05:09</td>\n",
       "      <td>1192</td>\n",
       "    </tr>\n",
       "    <tr>\n",
       "      <th>199</th>\n",
       "      <td>2016/12/05:10</td>\n",
       "      <td>1483</td>\n",
       "    </tr>\n",
       "    <tr>\n",
       "      <th>200</th>\n",
       "      <td>2016/12/05:11</td>\n",
       "      <td>2939</td>\n",
       "    </tr>\n",
       "    <tr>\n",
       "      <th>201</th>\n",
       "      <td>2016/12/05:12</td>\n",
       "      <td>1839</td>\n",
       "    </tr>\n",
       "    <tr>\n",
       "      <th>202</th>\n",
       "      <td>2016/12/05:13</td>\n",
       "      <td>1290</td>\n",
       "    </tr>\n",
       "    <tr>\n",
       "      <th>203</th>\n",
       "      <td>2016/12/05:14</td>\n",
       "      <td>4003</td>\n",
       "    </tr>\n",
       "    <tr>\n",
       "      <th>204</th>\n",
       "      <td>2016/12/05:15</td>\n",
       "      <td>1223</td>\n",
       "    </tr>\n",
       "  </tbody>\n",
       "</table>\n",
       "</div>"
      ],
      "text/plain": [
       "          day_hour  count\n",
       "195  2016/12/05:06   1203\n",
       "196  2016/12/05:07   1192\n",
       "197  2016/12/05:08   1203\n",
       "198  2016/12/05:09   1192\n",
       "199  2016/12/05:10   1483\n",
       "200  2016/12/05:11   2939\n",
       "201  2016/12/05:12   1839\n",
       "202  2016/12/05:13   1290\n",
       "203  2016/12/05:14   4003\n",
       "204  2016/12/05:15   1223"
      ]
     },
     "execution_count": 175,
     "metadata": {},
     "output_type": "execute_result"
    }
   ],
   "source": [
    "pandas_day_hour_all_df[195:205]"
   ]
  },
  {
   "cell_type": "code",
   "execution_count": 194,
   "metadata": {},
   "outputs": [
    {
     "data": {
      "text/html": [
       "<div>\n",
       "<style scoped>\n",
       "    .dataframe tbody tr th:only-of-type {\n",
       "        vertical-align: middle;\n",
       "    }\n",
       "\n",
       "    .dataframe tbody tr th {\n",
       "        vertical-align: top;\n",
       "    }\n",
       "\n",
       "    .dataframe thead th {\n",
       "        text-align: right;\n",
       "    }\n",
       "</style>\n",
       "<table border=\"1\" class=\"dataframe\">\n",
       "  <thead>\n",
       "    <tr style=\"text-align: right;\">\n",
       "      <th></th>\n",
       "      <th>ipAddress</th>\n",
       "      <th>count</th>\n",
       "    </tr>\n",
       "  </thead>\n",
       "  <tbody>\n",
       "    <tr>\n",
       "      <th>0</th>\n",
       "      <td>147.214.17.153</td>\n",
       "      <td>107</td>\n",
       "    </tr>\n",
       "    <tr>\n",
       "      <th>1</th>\n",
       "      <td>147.214.17.154</td>\n",
       "      <td>77</td>\n",
       "    </tr>\n",
       "    <tr>\n",
       "      <th>2</th>\n",
       "      <td>147.214.176.155</td>\n",
       "      <td>40</td>\n",
       "    </tr>\n",
       "    <tr>\n",
       "      <th>3</th>\n",
       "      <td>147.214.18.128</td>\n",
       "      <td>822</td>\n",
       "    </tr>\n",
       "    <tr>\n",
       "      <th>4</th>\n",
       "      <td>147.214.64.148</td>\n",
       "      <td>38</td>\n",
       "    </tr>\n",
       "    <tr>\n",
       "      <th>5</th>\n",
       "      <td>147.214.64.44</td>\n",
       "      <td>39</td>\n",
       "    </tr>\n",
       "    <tr>\n",
       "      <th>6</th>\n",
       "      <td>localhost</td>\n",
       "      <td>360</td>\n",
       "    </tr>\n",
       "  </tbody>\n",
       "</table>\n",
       "</div>"
      ],
      "text/plain": [
       "         ipAddress  count\n",
       "0   147.214.17.153    107\n",
       "1   147.214.17.154     77\n",
       "2  147.214.176.155     40\n",
       "3   147.214.18.128    822\n",
       "4   147.214.64.148     38\n",
       "5    147.214.64.44     39\n",
       "6        localhost    360"
      ]
     },
     "execution_count": 194,
     "metadata": {},
     "output_type": "execute_result"
    }
   ],
   "source": [
    "access_10 = access_logs_df.where(access_logs_df.day_hour == '2016/12/05:10').groupBy(\"ipAddress\").count().sort(access_logs_df.ipAddress).toPandas()\n",
    "access_10"
   ]
  },
  {
   "cell_type": "code",
   "execution_count": 193,
   "metadata": {},
   "outputs": [
    {
     "data": {
      "text/html": [
       "<div>\n",
       "<style scoped>\n",
       "    .dataframe tbody tr th:only-of-type {\n",
       "        vertical-align: middle;\n",
       "    }\n",
       "\n",
       "    .dataframe tbody tr th {\n",
       "        vertical-align: top;\n",
       "    }\n",
       "\n",
       "    .dataframe thead th {\n",
       "        text-align: right;\n",
       "    }\n",
       "</style>\n",
       "<table border=\"1\" class=\"dataframe\">\n",
       "  <thead>\n",
       "    <tr style=\"text-align: right;\">\n",
       "      <th></th>\n",
       "      <th>ipAddress</th>\n",
       "      <th>count</th>\n",
       "    </tr>\n",
       "  </thead>\n",
       "  <tbody>\n",
       "    <tr>\n",
       "      <th>0</th>\n",
       "      <td>147.214.17.153</td>\n",
       "      <td>413</td>\n",
       "    </tr>\n",
       "    <tr>\n",
       "      <th>1</th>\n",
       "      <td>147.214.17.154</td>\n",
       "      <td>367</td>\n",
       "    </tr>\n",
       "    <tr>\n",
       "      <th>2</th>\n",
       "      <td>147.214.176.155</td>\n",
       "      <td>50</td>\n",
       "    </tr>\n",
       "    <tr>\n",
       "      <th>3</th>\n",
       "      <td>147.214.18.128</td>\n",
       "      <td>824</td>\n",
       "    </tr>\n",
       "    <tr>\n",
       "      <th>4</th>\n",
       "      <td>147.214.64.148</td>\n",
       "      <td>855</td>\n",
       "    </tr>\n",
       "    <tr>\n",
       "      <th>5</th>\n",
       "      <td>147.214.64.44</td>\n",
       "      <td>70</td>\n",
       "    </tr>\n",
       "    <tr>\n",
       "      <th>6</th>\n",
       "      <td>localhost</td>\n",
       "      <td>360</td>\n",
       "    </tr>\n",
       "  </tbody>\n",
       "</table>\n",
       "</div>"
      ],
      "text/plain": [
       "         ipAddress  count\n",
       "0   147.214.17.153    413\n",
       "1   147.214.17.154    367\n",
       "2  147.214.176.155     50\n",
       "3   147.214.18.128    824\n",
       "4   147.214.64.148    855\n",
       "5    147.214.64.44     70\n",
       "6        localhost    360"
      ]
     },
     "execution_count": 193,
     "metadata": {},
     "output_type": "execute_result"
    }
   ],
   "source": [
    "outlier_11 = access_logs_df.where(access_logs_df.day_hour == '2016/12/05:11').groupBy(\"ipAddress\").count().sort(access_logs_df.ipAddress).toPandas()\n",
    "outlier_11"
   ]
  },
  {
   "cell_type": "code",
   "execution_count": 209,
   "metadata": {},
   "outputs": [
    {
     "name": "stdout",
     "output_type": "stream",
     "text": [
      "+---------------+-------+------------+\n",
      "|      ipAddress|  count|Percentage %|\n",
      "+---------------+-------+------------+\n",
      "| 147.214.81.243|      8|         0.0|\n",
      "|      localhost| 141701|        6.23|\n",
      "|147.214.176.155|   4214|        0.19|\n",
      "|  147.214.64.44|  11097|        0.49|\n",
      "| 147.214.64.148|  17058|        0.75|\n",
      "|    153.88.5.88|     16|         0.0|\n",
      "| 147.214.17.153|   5711|        0.25|\n",
      "| 134.138.165.73|     17|         0.0|\n",
      "| 147.214.18.128|2093165|        92.0|\n",
      "| 147.214.17.154|   2181|         0.1|\n",
      "+---------------+-------+------------+\n",
      "\n"
     ]
    }
   ],
   "source": [
    "calc_percentage = round(col(\"count\") * 100 / float(2275168) ,2)\n",
    "\n",
    "access_logs_df.groupBy(\"ipAddress\").count().withColumn('Percentage %' , calc_percentage).show()"
   ]
  },
  {
   "cell_type": "code",
   "execution_count": 210,
   "metadata": {},
   "outputs": [
    {
     "data": {
      "text/html": [
       "<div>\n",
       "<style scoped>\n",
       "    .dataframe tbody tr th:only-of-type {\n",
       "        vertical-align: middle;\n",
       "    }\n",
       "\n",
       "    .dataframe tbody tr th {\n",
       "        vertical-align: top;\n",
       "    }\n",
       "\n",
       "    .dataframe thead th {\n",
       "        text-align: right;\n",
       "    }\n",
       "</style>\n",
       "<table border=\"1\" class=\"dataframe\">\n",
       "  <thead>\n",
       "    <tr style=\"text-align: right;\">\n",
       "      <th></th>\n",
       "      <th>ipAddress</th>\n",
       "      <th>count</th>\n",
       "    </tr>\n",
       "  </thead>\n",
       "  <tbody>\n",
       "    <tr>\n",
       "      <th>0</th>\n",
       "      <td>147.214.17.153</td>\n",
       "      <td>6</td>\n",
       "    </tr>\n",
       "    <tr>\n",
       "      <th>1</th>\n",
       "      <td>147.214.17.154</td>\n",
       "      <td>8</td>\n",
       "    </tr>\n",
       "    <tr>\n",
       "      <th>2</th>\n",
       "      <td>147.214.176.155</td>\n",
       "      <td>32</td>\n",
       "    </tr>\n",
       "    <tr>\n",
       "      <th>3</th>\n",
       "      <td>147.214.18.128</td>\n",
       "      <td>824</td>\n",
       "    </tr>\n",
       "    <tr>\n",
       "      <th>4</th>\n",
       "      <td>147.214.64.148</td>\n",
       "      <td>34</td>\n",
       "    </tr>\n",
       "    <tr>\n",
       "      <th>5</th>\n",
       "      <td>147.214.64.44</td>\n",
       "      <td>26</td>\n",
       "    </tr>\n",
       "    <tr>\n",
       "      <th>6</th>\n",
       "      <td>localhost</td>\n",
       "      <td>360</td>\n",
       "    </tr>\n",
       "  </tbody>\n",
       "</table>\n",
       "</div>"
      ],
      "text/plain": [
       "         ipAddress  count\n",
       "0   147.214.17.153      6\n",
       "1   147.214.17.154      8\n",
       "2  147.214.176.155     32\n",
       "3   147.214.18.128    824\n",
       "4   147.214.64.148     34\n",
       "5    147.214.64.44     26\n",
       "6        localhost    360"
      ]
     },
     "execution_count": 210,
     "metadata": {},
     "output_type": "execute_result"
    }
   ],
   "source": [
    "access_13 = access_logs_df.where(access_logs_df.day_hour == '2016/12/05:13').groupBy(\"ipAddress\").count().sort(access_logs_df.ipAddress).toPandas()\n",
    "access_13"
   ]
  },
  {
   "cell_type": "code",
   "execution_count": 187,
   "metadata": {},
   "outputs": [
    {
     "data": {
      "text/html": [
       "<div>\n",
       "<style scoped>\n",
       "    .dataframe tbody tr th:only-of-type {\n",
       "        vertical-align: middle;\n",
       "    }\n",
       "\n",
       "    .dataframe tbody tr th {\n",
       "        vertical-align: top;\n",
       "    }\n",
       "\n",
       "    .dataframe thead th {\n",
       "        text-align: right;\n",
       "    }\n",
       "</style>\n",
       "<table border=\"1\" class=\"dataframe\">\n",
       "  <thead>\n",
       "    <tr style=\"text-align: right;\">\n",
       "      <th></th>\n",
       "      <th>ipAddress</th>\n",
       "      <th>count</th>\n",
       "    </tr>\n",
       "  </thead>\n",
       "  <tbody>\n",
       "    <tr>\n",
       "      <th>0</th>\n",
       "      <td>147.214.17.153</td>\n",
       "      <td>27</td>\n",
       "    </tr>\n",
       "    <tr>\n",
       "      <th>1</th>\n",
       "      <td>147.214.17.154</td>\n",
       "      <td>37</td>\n",
       "    </tr>\n",
       "    <tr>\n",
       "      <th>2</th>\n",
       "      <td>147.214.176.155</td>\n",
       "      <td>779</td>\n",
       "    </tr>\n",
       "    <tr>\n",
       "      <th>3</th>\n",
       "      <td>147.214.18.128</td>\n",
       "      <td>822</td>\n",
       "    </tr>\n",
       "    <tr>\n",
       "      <th>4</th>\n",
       "      <td>147.214.64.148</td>\n",
       "      <td>1353</td>\n",
       "    </tr>\n",
       "    <tr>\n",
       "      <th>5</th>\n",
       "      <td>147.214.64.44</td>\n",
       "      <td>625</td>\n",
       "    </tr>\n",
       "    <tr>\n",
       "      <th>6</th>\n",
       "      <td>localhost</td>\n",
       "      <td>360</td>\n",
       "    </tr>\n",
       "  </tbody>\n",
       "</table>\n",
       "</div>"
      ],
      "text/plain": [
       "         ipAddress  count\n",
       "0   147.214.17.153     27\n",
       "1   147.214.17.154     37\n",
       "2  147.214.176.155    779\n",
       "3   147.214.18.128    822\n",
       "4   147.214.64.148   1353\n",
       "5    147.214.64.44    625\n",
       "6        localhost    360"
      ]
     },
     "execution_count": 187,
     "metadata": {},
     "output_type": "execute_result"
    }
   ],
   "source": [
    "outlier_14 = access_logs_df.where(access_logs_df.day_hour == '2016/12/05:14').groupBy(\"ipAddress\").count().sort(access_logs_df.ipAddress).toPandas()\n",
    "outlier_14"
   ]
  },
  {
   "cell_type": "markdown",
   "metadata": {},
   "source": [
    "# Analysis\n",
    "The access counts at date, 2016/12/05, hour 11, 12, and 14 are very likely to be outliers. It is interesting to see what IP addresses made these accesses.\n",
    "\n",
    "We can see that the spike at 2016/12/05, hour 11 is mainly caused by the accesses from IP\n",
    "147.214.17.153,\n",
    "147.214.17.154,\n",
    "147.214.64.148.\n",
    "The spike at 2016/12/05, hour 11 is mainly caused by the accesses from IP\n",
    "147.214.176.155,\n",
    "147.214.64.148,\n",
    "147.214.64.44.\n",
    "\n",
    "Considering the percentages of these IP addresses, it is reasonable to assume that\n",
    "during these hours, the accesses from these IP addresses contain anomalies."
   ]
  },
  {
   "cell_type": "code",
   "execution_count": null,
   "metadata": {},
   "outputs": [],
   "source": []
  }
 ],
 "metadata": {
  "kernelspec": {
   "display_name": "Python 3",
   "language": "python",
   "name": "python3"
  },
  "language_info": {
   "codemirror_mode": {
    "name": "ipython",
    "version": 3
   },
   "file_extension": ".py",
   "mimetype": "text/x-python",
   "name": "python",
   "nbconvert_exporter": "python",
   "pygments_lexer": "ipython3",
   "version": "3.6.5"
  }
 },
 "nbformat": 4,
 "nbformat_minor": 2
}
