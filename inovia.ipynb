{
 "cells": [
  {
   "cell_type": "code",
   "execution_count": 18,
   "metadata": {},
   "outputs": [],
   "source": [
    "from pyspark.sql import SparkSession\n",
    "from pyspark.sql.types import *\n",
    "from pyspark.sql.functions import *\n",
    "from pyspark.sql import Row\n",
    "from datetime import datetime\n",
    "import re"
   ]
  },
  {
   "cell_type": "code",
   "execution_count": 19,
   "metadata": {},
   "outputs": [],
   "source": [
    "spark = SparkSession.builder \\\n",
    "    .master('local[*]') \\\n",
    "    .appName('Internal Access Log Analysis') \\\n",
    "    .getOrCreate()\n",
    "\n",
    "sc = spark.sparkContext"
   ]
  },
  {
   "cell_type": "code",
   "execution_count": 131,
   "metadata": {},
   "outputs": [],
   "source": [
    "# This is the regular expression for Apache webserver access log\n",
    "ACCESS_LOG_PATTERN = '(\\S+) (\\S+) (\\S+) (\\d{4}-\\d{2}-\\d{2}\\s\\d{2}:\\d{2}:\\d{2}\\s[+\\-]\\d{4}) \"(\\S+) (\\S+)\\s*(\\S*)\\s*\" (\\S+) (\\S+) \"(\\S+)\" \"(\\S+)\\s*(\\S*\\s*\\S*)\" (\\S+) (\\S+) (\\S+)'\n",
    "DATETIME_RE = '%Y-%m-%d %H:%M:%S %z'\n",
    "\n",
    "# Returns a Row containing the Apache Access Log info\n",
    "def parse_apache_log_line(logline):\n",
    "    match = re.search(ACCESS_LOG_PATTERN, logline)\n",
    "    if match is None:\n",
    "        print(\"No match\")\n",
    "        return None\n",
    "    date_obj = datetime.strptime(match.group(4), DATETIME_RE)\n",
    "\n",
    "    return Row(\n",
    "        ipAddress    = match.group(1),\n",
    "        clientIdentd = match.group(2),\n",
    "        userId       = match.group(3),\n",
    "        dateTime     = match.group(4),\n",
    "        timestamp    = date_obj.timestamp(),\n",
    "        date         = date_obj.strftime('%Y-%m-%d'),\n",
    "        method       = match.group(5),\n",
    "        endpoint     = match.group(6),\n",
    "        protocol     = match.group(7),\n",
    "        responseCode = (match.group(8)),\n",
    "        port         = (match.group(9)),\n",
    "        field_10     = match.group(10),\n",
    "        platform     = match.group(11),\n",
    "        access_tool  = match.group(12),\n",
    "        in_byte      = match.group(13),\n",
    "        out_byte     = match.group(14),\n",
    "        us_byte      = match.group(15))"
   ]
  },
  {
   "cell_type": "code",
   "execution_count": 132,
   "metadata": {},
   "outputs": [
    {
     "name": "stdout",
     "output_type": "stream",
     "text": [
      "Row(access_tool='', clientIdentd='-', date='2016-12-13', dateTime='2016-12-13 12:52:47 +0100', endpoint='/server-status?auto', field_10='-', in_byte='in:94', ipAddress='localhost', method='GET', out_byte='out:636', platform='collectd/5.5.1', port='438', protocol='HTTP/1.1', responseCode='rc:200', timestamp=1481629967.0, us_byte='us:390', userId='-')\n"
     ]
    }
   ],
   "source": [
    "test_line = 'localhost - - 2016-12-13 12:52:47 +0100 \"GET /server-status?auto HTTP/1.1\" rc:200 438 \"-\" \"collectd/5.5.1\" in:94 out:636 us:390'\n",
    "test_row = parse_apache_log_line(test_line)\n",
    "print(test_row)"
   ]
  },
  {
   "cell_type": "code",
   "execution_count": 133,
   "metadata": {},
   "outputs": [],
   "source": [
    "ACCESS_LOG_PATTERN = '(\\S+) (\\S+) (\\S+) (\\d{4}-\\d{2}-\\d{2}\\s\\d{2}:\\d{2}:\\d{2}\\s[+\\-]\\d{4}) \"(\\S+) (\\S+)\\s*(\\S*)\\s*\" (\\S+) (\\S+) \"(\\S+)\" \"(\\S+)\\s*(\\S*\\s*\\S*)\" (\\S+) (\\S+) (\\S+)'\n",
    "match = re.search(ACCESS_LOG_PATTERN, test_line)\n"
   ]
  },
  {
   "cell_type": "code",
   "execution_count": 134,
   "metadata": {},
   "outputs": [
    {
     "data": {
      "text/plain": [
       "'in:94'"
      ]
     },
     "execution_count": 134,
     "metadata": {},
     "output_type": "execute_result"
    }
   ],
   "source": [
    "match.group(13)"
   ]
  },
  {
   "cell_type": "code",
   "execution_count": 135,
   "metadata": {},
   "outputs": [],
   "source": [
    "access_logs_raw = sc.textFile('access_logs_201612.txt')\n"
   ]
  },
  {
   "cell_type": "code",
   "execution_count": 136,
   "metadata": {},
   "outputs": [
    {
     "data": {
      "text/plain": [
       "2529245"
      ]
     },
     "execution_count": 136,
     "metadata": {},
     "output_type": "execute_result"
    }
   ],
   "source": [
    "access_logs_raw.count()\n"
   ]
  },
  {
   "cell_type": "code",
   "execution_count": 137,
   "metadata": {},
   "outputs": [
    {
     "data": {
      "text/plain": [
       "2275168"
      ]
     },
     "execution_count": 137,
     "metadata": {},
     "output_type": "execute_result"
    }
   ],
   "source": [
    "access_logs_parsed = access_logs_raw.map(parse_apache_log_line) \\\n",
    "                .filter((lambda x: x is not None))\n",
    "\n",
    "\n",
    "access_logs_parsed.count()\n"
   ]
  },
  {
   "cell_type": "code",
   "execution_count": 138,
   "metadata": {},
   "outputs": [],
   "source": [
    "access_logs_df = access_logs_parsed.toDF()\n"
   ]
  },
  {
   "cell_type": "code",
   "execution_count": 139,
   "metadata": {},
   "outputs": [
    {
     "data": {
      "text/plain": [
       "DataFrame[access_tool: string, clientIdentd: string, date: string, dateTime: string, endpoint: string, field_10: string, in_byte: string, ipAddress: string, method: string, out_byte: string, platform: string, port: string, protocol: string, responseCode: string, timestamp: double, us_byte: string, userId: string]"
      ]
     },
     "execution_count": 139,
     "metadata": {},
     "output_type": "execute_result"
    }
   ],
   "source": [
    "type(access_logs_df)\n",
    "\n",
    "access_logs_df.cache()"
   ]
  },
  {
   "cell_type": "code",
   "execution_count": 140,
   "metadata": {},
   "outputs": [],
   "source": [
    "distinct_ip_address = access_logs_df.select('ipAddress').distinct()\n"
   ]
  },
  {
   "cell_type": "code",
   "execution_count": 146,
   "metadata": {},
   "outputs": [
    {
     "name": "stdout",
     "output_type": "stream",
     "text": [
      "+---------------+-------+\n",
      "|      ipAddress|  count|\n",
      "+---------------+-------+\n",
      "| 147.214.81.243|      8|\n",
      "|      localhost| 141701|\n",
      "|147.214.176.155|   4214|\n",
      "|  147.214.64.44|  11097|\n",
      "| 147.214.64.148|  17058|\n",
      "|    153.88.5.88|     16|\n",
      "| 147.214.17.153|   5711|\n",
      "| 134.138.165.73|     17|\n",
      "| 147.214.18.128|2093165|\n",
      "| 147.214.17.154|   2181|\n",
      "+---------------+-------+\n",
      "\n"
     ]
    }
   ],
   "source": [
    "access_logs_df.groupBy(\"ipAddress\").count().show()"
   ]
  },
  {
   "cell_type": "code",
   "execution_count": null,
   "metadata": {},
   "outputs": [],
   "source": []
  }
 ],
 "metadata": {
  "kernelspec": {
   "display_name": "Python 3",
   "language": "python",
   "name": "python3"
  },
  "language_info": {
   "codemirror_mode": {
    "name": "ipython",
    "version": 3
   },
   "file_extension": ".py",
   "mimetype": "text/x-python",
   "name": "python",
   "nbconvert_exporter": "python",
   "pygments_lexer": "ipython3",
   "version": "3.6.5"
  }
 },
 "nbformat": 4,
 "nbformat_minor": 2
}
